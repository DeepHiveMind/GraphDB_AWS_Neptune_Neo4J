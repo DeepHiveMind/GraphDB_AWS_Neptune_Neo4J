{
 "cells": [
  {
   "cell_type": "markdown",
   "metadata": {},
   "source": [
    "## Amazon Neptune\n",
    "\n",
    "Amazon Neptune is a fast, reliable graph database, purpose-built and optimized to store and query highly connected data in application domains as diverse as social networking, recommendations, datacenter management, logistics, knowledge management, entitlements and authorization, route finding, telecommunications network monitoring, fraud analysis, and many others.\n",
    "\n",
    "### Connected Data\n",
    "\n",
    "Many of the most important questions we want to ask of our data today require us to understand how things are connected – in what ways, and with what strength, weight or quality. If you've ever had to answer questions such as:\n",
    "\n",
    "-  Which friends and colleagues do we have in common?\n",
    "-  Which applications and services in my network will be affected if a particular network element—a router or switch, for example—fails? Do we have redundancy throughout the network for our most important customers?\n",
    "-  What's the quickest route between two stations on the underground?\n",
    "-  What do you recommend this customer should buy, view, or listen to next?\n",
    "-  Which products, services and subscriptions does a user have permission to access and modify?\n",
    "-  What's the cheapest or fastest means of delivering this parcel from A to B?\n",
    "-  Which parties are likely working together to defraud their bank or insurer?\n",
    "-  Which institutions are most at risk of poisoning the financial markets?\n",
    "\n",
    "– then you've already encountered the need to manage and make sense of large volumes of variably-structured, densely-connected data. These are the kinds of problems for which Amazon Neptune is ideally suited. Understanding what depends on what, and how things flow; identifying and assessing risk, and analysing the impact of events on deep dependency chains: these are all connected data problems. "
   ]
  },
  {
   "cell_type": "code",
   "execution_count": null,
   "metadata": {},
   "outputs": [],
   "source": []
  }
 ],
 "metadata": {
  "kernelspec": {
   "display_name": "conda_python3",
   "language": "python",
   "name": "conda_python3"
  },
  "language_info": {
   "codemirror_mode": {
    "name": "ipython",
    "version": 3
   },
   "file_extension": ".py",
   "mimetype": "text/x-python",
   "name": "python",
   "nbconvert_exporter": "python",
   "pygments_lexer": "ipython3",
   "version": "3.6.4"
  }
 },
 "nbformat": 4,
 "nbformat_minor": 2
}
